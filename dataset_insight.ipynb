{
 "cells": [
  {
   "cell_type": "code",
   "execution_count": null,
   "metadata": {},
   "outputs": [],
   "source": [
    "import nibabel as nib\n",
    "\n",
    "def load_nifti_file(file_path):\n",
    "    nifti_img = nib.load(file_path)\n",
    "    data = nifti_img.get_fdata()\n",
    "    return data\n",
    "\n",
    "# Example Usage\n",
    "file_path = '/home/monet/SAM_Seg/datasets/RawData/Training/label/label0003.nii.gz'\n",
    "image_data = load_nifti_file(file_path)\n",
    "\n",
    "# Now `image_data` is a numpy array containing the image data\n",
    "\n",
    "# Print dataset information\n",
    "print(\"Dataset Information:\")\n",
    "print(\"Dataset: BTCV dataset for organs\")\n",
    "print(\"Scan Slices Shape:\", image_data.shape)\n",
    "print(\"Number of Scan Slices:\", image_data.shape[2])"
   ]
  }
 ],
 "metadata": {
  "kernelspec": {
   "display_name": "MediSAM",
   "language": "python",
   "name": "python3"
  },
  "language_info": {
   "name": "python",
   "version": "3.10.13"
  }
 },
 "nbformat": 4,
 "nbformat_minor": 2
}
